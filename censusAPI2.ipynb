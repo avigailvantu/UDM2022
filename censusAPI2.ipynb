{
 "cells": [
  {
   "cell_type": "code",
   "execution_count": null,
   "metadata": {},
   "outputs": [],
   "source": [
    "%matplotlib inline \n",
    "import requests\n",
    "import pandas as pd\n",
    "import json\n",
    "import pickle\n",
    "import geopandas as gpd\n",
    "import matplotlib \n",
    "import matplotlib.pyplot as plt\n",
    "import geopandas as gpd\n",
    "from variables import *"
   ]
  },
  {
   "cell_type": "markdown",
   "metadata": {},
   "source": [
    "## Let's try fetching data using the Employment Data from the Census API\n",
    "\n",
    "Before starting to figure out how to write the API, let's look into the API documentation for that table. It is avaialble here: \n",
    "https://api.census.gov/data/2020/acs/acs5/profile/groups/DP03.html \n",
    "\n",
    "this page documents all variables (columns) for one year (2020) and one table (DP03). The Census structures its docs so that we can amke minor changes to the url in order to scroll through the years for that particular table.\n",
    "\n",
    "Keep in mind that the variables are not always the same over time (so on variable name can mean one thing in year x but anothe thing in year y), that is why it is always recommended to look into the desiganted API page before fetching data from the Census API. \n",
    "\n",
    "\n"
   ]
  },
  {
   "cell_type": "code",
   "execution_count": null,
   "metadata": {},
   "outputs": [],
   "source": [
    "#Variables for base url\n",
    "year='2020' \n",
    "data='acs'\n",
    "data_name='acs5/profile'\n",
    "# this comes from the list of variables \n",
    "columns = 'DP03_0001E,DP03_0002PE,DP03_0004PE,DP03_0005PE,DP03_0018PE,DP03_0019PE,DP03_0020PE,DP03_0021PE,DP03_0022PE'\n"
   ]
  },
  {
   "cell_type": "code",
   "execution_count": null,
   "metadata": {},
   "outputs": [],
   "source": [
    "dict_name = {'DP03_0001E':'Estimate!!EMPLOYMENT STATUS!!Population 16 years and over',\n",
    "            'DP03_0002PE': 'Percent!!EMPLOYMENT STATUS!!Population 16 years and over!!In labor force',\n",
    "             'DP03_0004PE':'Percent!!EMPLOYMENT STATUS!!Population 16 years and over!!In labor force!!Civilian labor force!!Employed',\n",
    "             'DP03_0005PE':'Percent!!EMPLOYMENT STATUS!!Population 16 years and over!!In labor force!!Civilian labor force!!Unemployed',\n",
    "             'DP03_0018PE':'Percent!!COMMUTING TO WORK!!Workers 16 years and over',\n",
    "             'DP03_0019PE':'Percent!!COMMUTING TO WORK!!Workers 16 years and over!!Car, truck, or van -- drove alone',\n",
    "             'DP03_0020PE':'Percent!!COMMUTING TO WORK!!Workers 16 years and over!!Car, truck, or van -- carpooled',\n",
    "             'DP03_0021PE':'Percent!!COMMUTING TO WORK!!Workers 16 years and over!!Public transportation (excluding taxicab)',\n",
    "             'DP03_0022PE':'Percent!!COMMUTING TO WORK!!Workers 16 years and over!!Walked'\n",
    "            }"
   ]
  },
  {
   "cell_type": "code",
   "execution_count": null,
   "metadata": {},
   "outputs": [],
   "source": [
    "acs_url = f'http://api.census.gov/data/{year}/{data}/{data_name}'\n",
    "#now set the the data url\n",
    "data_url = f'{acs_url}?get={columns}&for=county:*'\n",
    "#data_url"
   ]
  },
  {
   "cell_type": "code",
   "execution_count": null,
   "metadata": {},
   "outputs": [],
   "source": [
    "response=requests.get(data_url)"
   ]
  },
  {
   "cell_type": "code",
   "execution_count": null,
   "metadata": {},
   "outputs": [],
   "source": [
    "#make dataframe:\n",
    "\n",
    "#1. turn response into json\n",
    "ecodata=response.json()\n",
    "ecodata \n",
    "\n",
    "# transforminto a DF\n",
    "\n",
    "df=pd.DataFrame(ecodata[1:], columns=ecodata[0])\n",
    "\n",
    "df"
   ]
  },
  {
   "cell_type": "code",
   "execution_count": null,
   "metadata": {},
   "outputs": [],
   "source": [
    "df = df.rename(columns = dict_name)\n",
    "df"
   ]
  },
  {
   "cell_type": "code",
   "execution_count": null,
   "metadata": {},
   "outputs": [],
   "source": [
    "df.dtypes"
   ]
  },
  {
   "cell_type": "code",
   "execution_count": null,
   "metadata": {},
   "outputs": [],
   "source": [
    "df['Estimate!!EMPLOYMENT STATUS!!Population 16 years and over'] = df['Estimate!!EMPLOYMENT STATUS!!Population 16 years and over'].astype(float)\n",
    "df['Percent!!EMPLOYMENT STATUS!!Population 16 years and over!!In labor force'] = df['Percent!!EMPLOYMENT STATUS!!Population 16 years and over!!In labor force'].astype(float)"
   ]
  },
  {
   "cell_type": "code",
   "execution_count": null,
   "metadata": {},
   "outputs": [],
   "source": [
    "df.dtypes"
   ]
  },
  {
   "cell_type": "code",
   "execution_count": null,
   "metadata": {},
   "outputs": [],
   "source": [
    "df.hist()"
   ]
  },
  {
   "cell_type": "code",
   "execution_count": null,
   "metadata": {},
   "outputs": [],
   "source": [
    "# Let's find out what is going on with the ranges of the data"
   ]
  },
  {
   "cell_type": "code",
   "execution_count": null,
   "metadata": {},
   "outputs": [],
   "source": [
    "df.isnull().sum()"
   ]
  },
  {
   "cell_type": "code",
   "execution_count": null,
   "metadata": {},
   "outputs": [],
   "source": [
    "df[df['Estimate!!EMPLOYMENT STATUS!!Population 16 years and over']<0]"
   ]
  },
  {
   "cell_type": "code",
   "execution_count": null,
   "metadata": {},
   "outputs": [],
   "source": [
    "df[df['Percent!!EMPLOYMENT STATUS!!Population 16 years and over!!In labor force']<0]\n",
    "\n"
   ]
  },
  {
   "cell_type": "code",
   "execution_count": null,
   "metadata": {},
   "outputs": [],
   "source": []
  },
  {
   "cell_type": "code",
   "execution_count": null,
   "metadata": {},
   "outputs": [],
   "source": []
  },
  {
   "cell_type": "markdown",
   "metadata": {},
   "source": [
    "1. change all variables to numeric datatype\n",
    "2. compare diffrent states: \n",
    "Information on state codes can be found here: \n",
    "    https://www.census.gov/library/reference/code-lists/ansi.html#state\n",
    "3. find county data to plot \n",
    "    https://www.census.gov/geographies/mapping-files/time-series/geo/carto-boundary-file.html\n",
    "4. find one more Census table and fetch varaibles from that table: \n",
    "    a. https://data.census.gov/ \n",
    "    b. for example type: housing --> occupancy charac"
   ]
  },
  {
   "cell_type": "markdown",
   "metadata": {},
   "source": [
    "Next: Get data from a new table: \n",
    "\n",
    "dp02 in the Census table for Selected Scocial Chatacteristics in the US. The variables are described here: \n",
    "https://api.census.gov/data/2020/acs/acs5/profile/groups/DP02.html \n",
    "\n",
    "List of counties and state codes: \n",
    "https://www2.census.gov/programs-surveys/decennial/2010/partners/pdf/FIPS_StateCounty_Code.pdf \n",
    "\n",
    "Fetch data from 2020 and 2019. \n",
    "\n",
    "Grab the following variabales: \n",
    "1. The estimated total number of housholds \n",
    "2. The percent of families with children under 18 years old \n",
    "3. % of population who speaks spanish at home \n",
    "4. 2 more variables you are intrested to fetch \n",
    "\n"
   ]
  },
  {
   "cell_type": "code",
   "execution_count": null,
   "metadata": {},
   "outputs": [],
   "source": [
    "#Variables for base url\n",
    "year= # the year for data \n",
    "data='acs'\n",
    "data_name='acs5/profile'\n",
    "columns = #your columns  \n",
    "state= #State code \n",
    "zip_code= #list of zip codes \n",
    "# county=# list of counties in the state "
   ]
  },
  {
   "cell_type": "code",
   "execution_count": null,
   "metadata": {},
   "outputs": [],
   "source": [
    "## \n",
    "\n",
    "#first set the base url for acs19\n",
    "acs_url = f'http://api.census.gov/data/{year}/{data}/{data_name}'\n",
    "#now set the the data url\n",
    "# data_url = f'{acs_url}?get={columns}&for=tract:*&in=state:{state}&in=county:{county}'\n",
    "#data_url\n",
    "\n",
    "\n",
    "data_url = f'{acs_url}?get={columns}&for=zip%20code%20tabulation%20area:{zip_code}&in=state:{state}'"
   ]
  },
  {
   "cell_type": "code",
   "execution_count": null,
   "metadata": {},
   "outputs": [],
   "source": [
    "#initiate the API call \n",
    "response=requests.get(data_url)"
   ]
  },
  {
   "cell_type": "code",
   "execution_count": null,
   "metadata": {},
   "outputs": [],
   "source": [
    "#store the json data into a dataframe \n",
    "#1. turn response into json\n",
    "data=response.json()\n",
    "data \n",
    "\n",
    "# transforminto a DF\n",
    "\n",
    "df_dp02=pd.DataFrame(data[1:], columns=data[0])\n",
    "\n",
    "df_dp02"
   ]
  },
  {
   "cell_type": "code",
   "execution_count": null,
   "metadata": {},
   "outputs": [],
   "source": [
    "# convert data to numeric, review the histrograms and basic descriptives "
   ]
  },
  {
   "cell_type": "code",
   "execution_count": null,
   "metadata": {},
   "outputs": [],
   "source": [
    "# Have one DF for 2019 and one for 2020 data... export both of them \n"
   ]
  },
  {
   "cell_type": "code",
   "execution_count": null,
   "metadata": {},
   "outputs": [],
   "source": [
    "# next--> export your data as csv\n",
    "\n",
    "df_dp02.to_csv('df_dp02.csv')"
   ]
  },
  {
   "cell_type": "markdown",
   "metadata": {},
   "source": [
    "### Now that we have the data as a csv file let's try loading it into QGIS \n",
    "\n",
    "1.  First download a shapefile of the zip codes.. \n",
    "\n",
    "2. Load the data as a CSV file into QGIS and join tables. \n",
    "3. Finally, create a few maps of the data, compare both year's data, discuss your conclusions.. "
   ]
  },
  {
   "cell_type": "code",
   "execution_count": null,
   "metadata": {},
   "outputs": [],
   "source": []
  }
 ],
 "metadata": {
  "kernelspec": {
   "display_name": "Python 3",
   "language": "python",
   "name": "python3"
  },
  "language_info": {
   "codemirror_mode": {
    "name": "ipython",
    "version": 3
   },
   "file_extension": ".py",
   "mimetype": "text/x-python",
   "name": "python",
   "nbconvert_exporter": "python",
   "pygments_lexer": "ipython3",
   "version": "3.7.6"
  }
 },
 "nbformat": 4,
 "nbformat_minor": 4
}
