{
 "cells": [
  {
   "cell_type": "markdown",
   "metadata": {},
   "source": [
    "## Census API \n",
    "\n",
    "This notebook uses API (Application programming interface) to accesss data from the Census Bureau. In many cases the API requires a key in order to fetch data. In the case of the Census API a key is only required for more then 500 calls per day. Therefore, we will not require getting an API key to run this notebook (yay!). \n",
    "\n",
    "\n",
    "This notebook provides access to specific data provided through the Census Bureau API. The code is written so that it enables flexiblity in the type of data, granularity, and period. The Census API includes many datasets and can be personalized in multiple ways.  \n",
    "\n",
    "\n",
    "\n"
   ]
  },
  {
   "cell_type": "code",
   "execution_count": null,
   "metadata": {},
   "outputs": [],
   "source": [
    "%matplotlib inline \n",
    "import requests\n",
    "import pandas as pd\n",
    "import json\n",
    "import pickle\n",
    "import geopandas as gpd\n",
    "import matplotlib \n",
    "import matplotlib.pyplot as plt\n",
    "import geopandas as gpd\n",
    "from variables import *"
   ]
  },
  {
   "cell_type": "markdown",
   "metadata": {},
   "source": [
    "# ACS 2019 data columns "
   ]
  },
  {
   "cell_type": "markdown",
   "metadata": {},
   "source": [
    "Resources: \n",
    "- Census API page https://www.census.gov/data/developers/data-sets.html \n",
    "- Census API availvale datasets https://api.census.gov/data.html \n",
    "\n",
    "\n",
    "The code in the next section provides easy-to-use code snipts for accessing a pre-defined list variables based on topics. At this time race and age related variables are avaialble. Note that these variables are being loaded from the variables.py script and are imported in the import line. \n",
    "\n",
    "#### Race:\n",
    "- Percent White\n",
    "- Percetn Black\n",
    "- Percent American Indian and Alaska Native\n",
    "- Percent Asian \n",
    "- Percent NativeH awaiian and Other Pacific Islander\n",
    "- Percent Some Other Race\n",
    "- Percent Hispanic Or Latino\n",
    "\n",
    "#### Age: \n",
    "-  Precent Age Under 5\n",
    "- Precent Age 5 to 9\n",
    "- Precent Age 10 to 14\n",
    "- Precent Age 15 to 19\n",
    "- Precent Age 20 to 24 \n",
    "- Precent Age 25 to 34\n",
    "- Precent Age 35 to 44\n",
    "- Precent Age 45 to 54\n",
    "- Precent Age 55 to 59 \n",
    "- Precent Age 60 to 64\n",
    "- Precent Age 65 to 74\n",
    "- Precent Age 75 to 84 \n",
    "- Precent Age 85 and Older\n",
    "\n",
    "\n",
    "### How does it work? \n",
    "\n",
    "Data for each one of these group categories can be accessed from the 5 years estimates ACS data using the code below. To download given data you will need to specify the parameters in one cell (see details below), and then run the remaining code for the section without making any futher changes. Running these cells will fetch the data, make some formating transfroamtions, re-arrange the data, rename columns, create a map of the data, and eventually export the data as a csv file into your local machine.\n",
    "\n",
    "\n",
    "\n",
    "\n",
    "\n",
    "\n",
    "\n"
   ]
  },
  {
   "cell_type": "code",
   "execution_count": null,
   "metadata": {},
   "outputs": [],
   "source": [
    "# print list of variables \n",
    "\n",
    "print('Race -->',RACE)\n",
    "print('Age -->',AGE)"
   ]
  },
  {
   "cell_type": "markdown",
   "metadata": {},
   "source": [
    "# 1. Census Tract level data\n",
    "\n",
    "Choose your list of variables for the API call"
   ]
  },
  {
   "cell_type": "code",
   "execution_count": null,
   "metadata": {},
   "outputs": [],
   "source": [
    "#Variables for base url\n",
    "year='2017' \n",
    "data='acs'\n",
    "data_name='acs5/profile'\n",
    "# this comes from the list of variables \n",
    "columns = RACE \n",
    "state='36'\n",
    "county='005,047,061,081,085'"
   ]
  },
  {
   "cell_type": "code",
   "execution_count": null,
   "metadata": {},
   "outputs": [],
   "source": [
    "#first set the base url for acs19\n",
    "acs_url = f'http://api.census.gov/data/{year}/{data}/{data_name}'\n",
    "#now set the the data url\n",
    "data_url = f'{acs_url}?get={columns}&for=tract:*&in=state:{state}&in=county:{county}'\n",
    "#data_url"
   ]
  },
  {
   "cell_type": "code",
   "execution_count": null,
   "metadata": {},
   "outputs": [],
   "source": [
    "#retrieve the data\n",
    "response=requests.get(data_url)\n",
    "#print(response.text)"
   ]
  },
  {
   "cell_type": "markdown",
   "metadata": {},
   "source": [
    "These results come in text form. We will transform them into json as an intermidiate step before turning them \n",
    "to a data frame "
   ]
  },
  {
   "cell_type": "markdown",
   "metadata": {
    "deletable": false,
    "editable": false
   },
   "source": [
    "# Transform API results into DataFrame\n"
   ]
  },
  {
   "cell_type": "code",
   "execution_count": null,
   "metadata": {},
   "outputs": [],
   "source": [
    "#make dataframe:\n",
    "\n",
    "#1. turn response into json\n",
    "popdata=response.json()\n",
    "popdata \n",
    "\n",
    "# transforminto a DF\n",
    "\n",
    "df=pd.DataFrame(popdata[1:], columns=popdata[0])\n",
    "\n",
    "df"
   ]
  },
  {
   "cell_type": "markdown",
   "metadata": {},
   "source": [
    "# change column names using a dictionary \n",
    "\n",
    "Column names by default are generated from the API call as the variable codes. Which for the human eye are useless strings! That's where the .py script comes into play again. RACE_GROUPS is a dictionary that is used to inidcate which string belongs to which category. The result is a DataFrame that includes column names that are convinient for the human eye. "
   ]
  },
  {
   "cell_type": "code",
   "execution_count": null,
   "metadata": {},
   "outputs": [],
   "source": [
    "df = df.rename(columns = RACE_GROUPS)\n",
    "df"
   ]
  },
  {
   "cell_type": "markdown",
   "metadata": {},
   "source": [
    "## Export as csv "
   ]
  },
  {
   "cell_type": "code",
   "execution_count": null,
   "metadata": {},
   "outputs": [],
   "source": [
    "from datetime import date\n",
    "#save csv using the data paremeters \n",
    "\n",
    "#1. get today's data \n",
    "today = date.today()\n",
    "today = today.strftime(\"%d%m%y\")\n",
    "\n",
    "#2.save the data using the pre-defined parameters \n",
    "home= data+year+'_'+today \n",
    "df.to_csv(home+'.csv', sep=',')\n"
   ]
  },
  {
   "cell_type": "markdown",
   "metadata": {
    "deletable": false,
    "editable": false
   },
   "source": [
    "## Name and save Data Frame as CSV "
   ]
  },
  {
   "cell_type": "markdown",
   "metadata": {
    "deletable": false,
    "editable": false
   },
   "source": [
    "# 2. Get data from API for ACS 5 years in ZCTA"
   ]
  },
  {
   "cell_type": "markdown",
   "metadata": {},
   "source": [
    "## Set parameters for API\n",
    "\n"
   ]
  },
  {
   "cell_type": "code",
   "execution_count": null,
   "metadata": {},
   "outputs": [],
   "source": [
    "#load ZCTA list by borugh from pickle\n",
    "\n",
    "with open('BXzip.pkl', 'rb') as f: \n",
    "    BXzip = pickle.load(f)\n",
    "    \n",
    "with open('BKzip.pkl', 'rb') as f: \n",
    "    BKzip = pickle.load(f)\n",
    "\n",
    "with open('MNzip.pkl', 'rb') as f: \n",
    "    MNzip = pickle.load(f)\n",
    "    \n",
    "with open('SIzip.pkl', 'rb') as f: \n",
    "    SIzip = pickle.load(f)\n",
    "    \n",
    "with open('QNzip.pkl', 'rb') as f: \n",
    "    QNzip = pickle.load(f)"
   ]
  },
  {
   "cell_type": "code",
   "execution_count": null,
   "metadata": {},
   "outputs": [],
   "source": [
    "year='2019' \n",
    "data='acs'\n",
    "data_name='acs5'\n",
    "columns='B01001_002E,B06009_005E' \n",
    "state='36'\n",
    "zip_code= BXzip + BKzip\n",
    "\n",
    "#may hard code state and data type, data name can change but column names are not always the sameacross yers \n",
    " \n",
    "\n"
   ]
  },
  {
   "cell_type": "code",
   "execution_count": null,
   "metadata": {
    "deletable": false,
    "editable": false
   },
   "outputs": [],
   "source": [
    "#retrieve the data\n",
    "response=requests.get(data_url)\n",
    "#print(response.text)\n",
    "# find way to give feedbak: success/or unsuccessful instead of printing the response"
   ]
  },
  {
   "cell_type": "code",
   "execution_count": null,
   "metadata": {},
   "outputs": [],
   "source": [
    "#make dataframe:\n",
    "\n",
    "#1. turn response into json\n",
    "popdata=response.json()\n",
    "popdata \n",
    "#DF\n",
    "dfZCTA =pd.DataFrame(popdata[1:], columns=popdata[0])\n",
    "\n",
    "\n",
    "popdata[1:2][:1]\n",
    "\n",
    "\n"
   ]
  },
  {
   "cell_type": "code",
   "execution_count": null,
   "metadata": {},
   "outputs": [],
   "source": [
    "dfZCTA.head(3)\n"
   ]
  },
  {
   "cell_type": "markdown",
   "metadata": {
    "deletable": false,
    "editable": false
   },
   "source": [
    "## Plotting"
   ]
  },
  {
   "cell_type": "code",
   "execution_count": null,
   "metadata": {},
   "outputs": [],
   "source": [
    "nycZCTA = gpd.read_file('/Users/avigailvantu/Documents/DoH/zcta/zctashape')\n",
    "nycZCTA.plot(column='zcta', colormap ='plasma')\n",
    "plt.axis('off')"
   ]
  },
  {
   "cell_type": "markdown",
   "metadata": {
    "deletable": false,
    "editable": false
   },
   "source": [
    "## Merge ZCTA shapfile with ACS API results"
   ]
  },
  {
   "cell_type": "code",
   "execution_count": null,
   "metadata": {},
   "outputs": [],
   "source": [
    "#merge inner all NYC ZCTA and the API results\n",
    "bxplot = nycZCTA.merge(dfZCTA, left_on='zcta', right_on='zip code tabulation area')\n",
    "#need to generalize so that columns are generatede in plot script based on DF columns\n",
    "bxplot.plot(column='B01001_002E',colormap='cool', k=4,legend=True, figsize=(12,10))\n",
    "plt.axis('off')"
   ]
  },
  {
   "cell_type": "markdown",
   "metadata": {},
   "source": [
    "## Save data as ShapeFile "
   ]
  },
  {
   "cell_type": "code",
   "execution_count": null,
   "metadata": {},
   "outputs": [],
   "source": [
    "bxplot.to_file('CensusZCTA.shp')"
   ]
  },
  {
   "cell_type": "markdown",
   "metadata": {},
   "source": [
    "## Your turn:\n",
    "\n",
    "Go through all sections of this notebook as well as the Census Bureau's API documentation (https://www.census.gov/data/developers/data-sets.html). Take your time to familiarize yourself with the Census' developers page and the diffrent datasets available.\n",
    "\n",
    "Use the existing code to branch out and create soemthing new. Here are some initial/partial *ideas*: \n",
    "\n",
    "1. Write a program that fetchs data in a diffrent geogrpahical unit (i.e. not census tracts or ZCTA),and merge it with geogprahical data.\n",
    "2. Write a program that fetches new types of data and time periods. \n",
    "3. Add a new set of variables to the variables.py script, then make the needed changes to the code so that it runs the data and renames the columns.\n",
    "4. Add other functionalities not specified in this notebook. These can be automating the notebook or generlizing it in a way that enables scaliblity and sustianability of the code. \n",
    "\n",
    "**Important:**\n",
    "- Keep your code clean, organized, and reproducible. \n",
    "- Remove un-needed cells or sections. Carefully consider every part of your answer and make sure all sections fit together. \n",
    "- Use markdowns to explain your work and thought process. \n",
    "- If needed: include data visualizations. \n"
   ]
  },
  {
   "cell_type": "code",
   "execution_count": null,
   "metadata": {},
   "outputs": [],
   "source": []
  },
  {
   "cell_type": "code",
   "execution_count": null,
   "metadata": {},
   "outputs": [],
   "source": []
  }
 ],
 "metadata": {
  "celltoolbar": "Edit Metadata",
  "kernelspec": {
   "display_name": "Python 3",
   "language": "python",
   "name": "python3"
  },
  "language_info": {
   "codemirror_mode": {
    "name": "ipython",
    "version": 3
   },
   "file_extension": ".py",
   "mimetype": "text/x-python",
   "name": "python",
   "nbconvert_exporter": "python",
   "pygments_lexer": "ipython3",
   "version": "3.7.6"
  }
 },
 "nbformat": 4,
 "nbformat_minor": 4
}
