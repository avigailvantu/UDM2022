{
 "cells": [
  {
   "cell_type": "code",
   "execution_count": null,
   "id": "4f02a891-b6c7-41ed-a6db-1be2b6c75696",
   "metadata": {},
   "outputs": [],
   "source": [
    "import numpy as np \n",
    "import pandas as pd"
   ]
  },
  {
   "cell_type": "code",
   "execution_count": null,
   "id": "2e11c00c-e0f8-4792-8d62-a69011be061b",
   "metadata": {},
   "outputs": [],
   "source": [
    "pop = pd.read_csv('census-historic-population-borough.csv')"
   ]
  },
  {
   "cell_type": "code",
   "execution_count": null,
   "id": "155ffb9c-24bd-4114-bd90-ed586e516228",
   "metadata": {},
   "outputs": [],
   "source": []
  },
  {
   "cell_type": "markdown",
   "id": "f271ee4c-5a24-487b-86a3-caf65f391bb8",
   "metadata": {},
   "source": [
    "What is the size of the data? \n",
    "1. how many rows?\n",
    "2. how many columns? \n",
    "\n"
   ]
  },
  {
   "cell_type": "code",
   "execution_count": null,
   "id": "f15a7250-a869-4f1b-9662-8d0d9b25a6a0",
   "metadata": {},
   "outputs": [],
   "source": [
    "#your code here\n"
   ]
  },
  {
   "cell_type": "markdown",
   "id": "6139cf9c-2cb6-48fe-b3fc-7f4adb8dfae3",
   "metadata": {},
   "source": [
    "---"
   ]
  },
  {
   "cell_type": "markdown",
   "id": "0edf575b-da8e-40ef-b898-4e32c2c4ed93",
   "metadata": {},
   "source": [
    "How many unique values are there in the \"Area Name\" column?\n"
   ]
  },
  {
   "cell_type": "code",
   "execution_count": null,
   "id": "8e976621-517f-4026-8083-9bab85e2b577",
   "metadata": {},
   "outputs": [],
   "source": [
    "#your code here "
   ]
  },
  {
   "cell_type": "markdown",
   "id": "1d31c58a-bf0c-48df-8dbe-e39d5cbffd83",
   "metadata": {},
   "source": [
    "---"
   ]
  },
  {
   "cell_type": "markdown",
   "id": "fa96a8f9-baf9-4e3f-b6fb-2bea06c9ac5d",
   "metadata": {},
   "source": [
    "What is the sum of the Persons-1861 column? "
   ]
  },
  {
   "cell_type": "code",
   "execution_count": null,
   "id": "1a2cfbab-ecb1-4fcd-ad2b-786ce958c9c6",
   "metadata": {},
   "outputs": [],
   "source": [
    "#your code here "
   ]
  },
  {
   "cell_type": "markdown",
   "id": "323f3671-b0c8-4680-9cd9-e4285bc01b35",
   "metadata": {},
   "source": [
    "---"
   ]
  },
  {
   "cell_type": "markdown",
   "id": "5a6371d5-c925-460a-8f54-107ce404dac2",
   "metadata": {},
   "source": [
    "What is the ratio between the sum of the Persons-1921 and Persons-1991 columns?"
   ]
  },
  {
   "cell_type": "code",
   "execution_count": null,
   "id": "02dd84aa-1304-4550-9f52-fdf4a3abb88a",
   "metadata": {},
   "outputs": [],
   "source": [
    "#your code here "
   ]
  },
  {
   "cell_type": "code",
   "execution_count": null,
   "id": "5a8d3d9a-8722-4a6a-8fca-8cfee4cdcde6",
   "metadata": {},
   "outputs": [],
   "source": []
  },
  {
   "cell_type": "markdown",
   "id": "b962d769-9599-4057-b651-3998fd742059",
   "metadata": {},
   "source": [
    "---"
   ]
  },
  {
   "cell_type": "markdown",
   "id": "bdcf7c9e-ad61-4c27-9799-f84948db5bb1",
   "metadata": {},
   "source": [
    "what type of information would the result of the following lines of code provide us with? \n",
    "\n",
    "\n"
   ]
  },
  {
   "cell_type": "code",
   "execution_count": null,
   "id": "f54eabd2-7879-4f93-98cc-0cb4333fd027",
   "metadata": {},
   "outputs": [],
   "source": [
    "#1\n",
    "pop[pop['Persons-1801']>11000]"
   ]
  },
  {
   "cell_type": "markdown",
   "id": "93162cd8-51f3-4684-a4bc-eee371a40b24",
   "metadata": {},
   "source": [
    "your answer --> "
   ]
  },
  {
   "cell_type": "markdown",
   "id": "3a06f852-002e-433a-a5f1-0e8b12cfd6fa",
   "metadata": {},
   "source": []
  },
  {
   "cell_type": "markdown",
   "id": "86abbe81-eead-45c3-bd30-1065c03185a7",
   "metadata": {},
   "source": [
    "---"
   ]
  },
  {
   "cell_type": "code",
   "execution_count": null,
   "id": "26d6f592-09c9-43b4-a8e3-cf6fcfa325a7",
   "metadata": {},
   "outputs": [],
   "source": [
    "#2 \n",
    "pop.loc[20]"
   ]
  },
  {
   "cell_type": "markdown",
   "id": "6b6757ad-4ca8-465d-a8cf-3902eb19078c",
   "metadata": {},
   "source": [
    "your answer-->"
   ]
  },
  {
   "cell_type": "code",
   "execution_count": null,
   "id": "b3149eee-0985-4378-a491-ea407f505704",
   "metadata": {},
   "outputs": [],
   "source": []
  },
  {
   "cell_type": "markdown",
   "id": "e792a043-942b-4386-a821-950cd3e6581a",
   "metadata": {},
   "source": [
    "---"
   ]
  },
  {
   "cell_type": "code",
   "execution_count": null,
   "id": "0257a004-9ed3-404f-a2fc-74786debf313",
   "metadata": {},
   "outputs": [],
   "source": [
    "#3 \n",
    "pop.loc[20:25]"
   ]
  },
  {
   "cell_type": "markdown",
   "id": "736675e3-a1df-4d94-bded-8562ab8e19a9",
   "metadata": {},
   "source": [
    "your answer --> \n"
   ]
  },
  {
   "cell_type": "code",
   "execution_count": null,
   "id": "3138f294-49cd-4513-a921-fceca8bcb42b",
   "metadata": {},
   "outputs": [],
   "source": []
  },
  {
   "cell_type": "markdown",
   "id": "5f321cbf-8886-4cf0-b30d-7d34cb9befa0",
   "metadata": {},
   "source": [
    "---"
   ]
  },
  {
   "cell_type": "code",
   "execution_count": null,
   "id": "ec35e622-916e-4d30-a546-0c7a8986cd51",
   "metadata": {},
   "outputs": [],
   "source": [
    "#4 \n",
    "pop[20:25]"
   ]
  },
  {
   "cell_type": "markdown",
   "id": "8ade269e-4728-430b-aa2f-966a87e38f80",
   "metadata": {},
   "source": [
    "your answer --->"
   ]
  },
  {
   "cell_type": "code",
   "execution_count": null,
   "id": "d625325b-b5d1-43c2-8d5d-470521ba5877",
   "metadata": {},
   "outputs": [],
   "source": []
  },
  {
   "cell_type": "markdown",
   "id": "f34f151c-07ff-45bb-b360-79ea4d0db84f",
   "metadata": {},
   "source": [
    "---"
   ]
  },
  {
   "cell_type": "code",
   "execution_count": null,
   "id": "b1507010-e585-489d-a854-5b4a338f3c49",
   "metadata": {},
   "outputs": [],
   "source": [
    "# 5 \n",
    "pop.dtypes "
   ]
  },
  {
   "cell_type": "markdown",
   "id": "8c2f90ab-b358-46df-b24f-64f6cd834190",
   "metadata": {},
   "source": [
    "your answer--> "
   ]
  },
  {
   "cell_type": "code",
   "execution_count": null,
   "id": "d5364c91-c4b3-40c7-8095-9a3ee3037f46",
   "metadata": {},
   "outputs": [],
   "source": []
  },
  {
   "cell_type": "markdown",
   "id": "db2278bb-1a08-489b-a801-be69a90a6fce",
   "metadata": {},
   "source": [
    "----"
   ]
  },
  {
   "cell_type": "code",
   "execution_count": null,
   "id": "20ace18c-7e93-40a5-a912-c6dd56c8f6f1",
   "metadata": {},
   "outputs": [],
   "source": []
  }
 ],
 "metadata": {
  "kernelspec": {
   "display_name": "Python 3 (ipykernel)",
   "language": "python",
   "name": "python3"
  },
  "language_info": {
   "codemirror_mode": {
    "name": "ipython",
    "version": 3
   },
   "file_extension": ".py",
   "mimetype": "text/x-python",
   "name": "python",
   "nbconvert_exporter": "python",
   "pygments_lexer": "ipython3",
   "version": "3.7.6"
  }
 },
 "nbformat": 4,
 "nbformat_minor": 5
}
