{
 "cells": [
  {
   "cell_type": "code",
   "execution_count": 2,
   "id": "4f02a891-b6c7-41ed-a6db-1be2b6c75696",
   "metadata": {},
   "outputs": [],
   "source": [
    "import numpy as np \n",
    "import pandas as pd"
   ]
  },
  {
   "cell_type": "code",
   "execution_count": 4,
   "id": "2e11c00c-e0f8-4792-8d62-a69011be061b",
   "metadata": {},
   "outputs": [],
   "source": [
    "pop = pd.read_csv('census-historic-population-borough.csv')"
   ]
  },
  {
   "cell_type": "code",
   "execution_count": null,
   "id": "155ffb9c-24bd-4114-bd90-ed586e516228",
   "metadata": {},
   "outputs": [],
   "source": []
  },
  {
   "cell_type": "markdown",
   "id": "f271ee4c-5a24-487b-86a3-caf65f391bb8",
   "metadata": {},
   "source": [
    "What is the size of the data? \n",
    "1. how many rows?\n",
    "2. how many columns? \n",
    "\n"
   ]
  },
  {
   "cell_type": "code",
   "execution_count": 5,
   "id": "f15a7250-a869-4f1b-9662-8d0d9b25a6a0",
   "metadata": {},
   "outputs": [],
   "source": [
    "#your code here\n"
   ]
  },
  {
   "cell_type": "markdown",
   "id": "6139cf9c-2cb6-48fe-b3fc-7f4adb8dfae3",
   "metadata": {},
   "source": [
    "---"
   ]
  },
  {
   "cell_type": "markdown",
   "id": "0edf575b-da8e-40ef-b898-4e32c2c4ed93",
   "metadata": {},
   "source": [
    "How many unique values are there in the \"Area Name\" column?\n"
   ]
  },
  {
   "cell_type": "code",
   "execution_count": 9,
   "id": "8e976621-517f-4026-8083-9bab85e2b577",
   "metadata": {},
   "outputs": [],
   "source": [
    "#your code here "
   ]
  },
  {
   "cell_type": "markdown",
   "id": "1d31c58a-bf0c-48df-8dbe-e39d5cbffd83",
   "metadata": {},
   "source": [
    "---"
   ]
  },
  {
   "cell_type": "markdown",
   "id": "fa96a8f9-baf9-4e3f-b6fb-2bea06c9ac5d",
   "metadata": {},
   "source": [
    "What is the sum of the Persons-1861 column? "
   ]
  },
  {
   "cell_type": "code",
   "execution_count": null,
   "id": "1a2cfbab-ecb1-4fcd-ad2b-786ce958c9c6",
   "metadata": {},
   "outputs": [],
   "source": [
    "#your code here "
   ]
  },
  {
   "cell_type": "markdown",
   "id": "323f3671-b0c8-4680-9cd9-e4285bc01b35",
   "metadata": {},
   "source": [
    "---"
   ]
  },
  {
   "cell_type": "markdown",
   "id": "5a6371d5-c925-460a-8f54-107ce404dac2",
   "metadata": {},
   "source": [
    "What is the ratio between the sum of the Persons-1921 and Persons-1991 columns?"
   ]
  },
  {
   "cell_type": "code",
   "execution_count": null,
   "id": "02dd84aa-1304-4550-9f52-fdf4a3abb88a",
   "metadata": {},
   "outputs": [],
   "source": [
    "#your code here "
   ]
  },
  {
   "cell_type": "code",
   "execution_count": null,
   "id": "5a8d3d9a-8722-4a6a-8fca-8cfee4cdcde6",
   "metadata": {},
   "outputs": [],
   "source": []
  },
  {
   "cell_type": "markdown",
   "id": "b962d769-9599-4057-b651-3998fd742059",
   "metadata": {},
   "source": [
    "---"
   ]
  },
  {
   "cell_type": "markdown",
   "id": "bdcf7c9e-ad61-4c27-9799-f84948db5bb1",
   "metadata": {},
   "source": [
    "what type of information would the result of the following lines of code provide us with? \n",
    "\n",
    "\n"
   ]
  },
  {
   "cell_type": "code",
   "execution_count": null,
   "id": "f54eabd2-7879-4f93-98cc-0cb4333fd027",
   "metadata": {},
   "outputs": [],
   "source": [
    "#1\n",
    "pop[pop['Persons-1801']>11000]"
   ]
  },
  {
   "cell_type": "markdown",
   "id": "93162cd8-51f3-4684-a4bc-eee371a40b24",
   "metadata": {},
   "source": [
    "your answer --> "
   ]
  },
  {
   "cell_type": "markdown",
   "id": "3a06f852-002e-433a-a5f1-0e8b12cfd6fa",
   "metadata": {},
   "source": []
  },
  {
   "cell_type": "markdown",
   "id": "86abbe81-eead-45c3-bd30-1065c03185a7",
   "metadata": {},
   "source": [
    "---"
   ]
  },
  {
   "cell_type": "code",
   "execution_count": 17,
   "id": "26d6f592-09c9-43b4-a8e3-cf6fcfa325a7",
   "metadata": {},
   "outputs": [
    {
     "data": {
      "text/plain": [
       "Area Code                       00AX\n",
       "Area Name       Kingston upon Thames\n",
       "Persons-1801                    5000\n",
       "Persons-1811                    5000\n",
       "Persons-1821                    6000\n",
       "Persons-1831                    8000\n",
       "Persons-1841                   10000\n",
       "Persons-1851                   12000\n",
       "Persons-1861                   18000\n",
       "Persons-1871                   27000\n",
       "Persons-1881                   36000\n",
       "Persons-1891                   45000\n",
       "Persons-1901                   56000\n",
       "Persons-1911                   68000\n",
       "Persons-1921                   74000\n",
       "Persons-1931                   93000\n",
       "Persons-1939                  129000\n",
       "Persons-1951                  147000\n",
       "Persons-1961                  146010\n",
       "Persons-1971                  141000\n",
       "Persons-1981                  132957\n",
       "Persons-1991                  131436\n",
       "Persons-2001                  147271\n",
       "Persons-2011                  160060\n",
       "Name: 20, dtype: object"
      ]
     },
     "execution_count": 17,
     "metadata": {},
     "output_type": "execute_result"
    }
   ],
   "source": [
    "#2 \n",
    "pop.loc[20]"
   ]
  },
  {
   "cell_type": "markdown",
   "id": "6b6757ad-4ca8-465d-a8cf-3902eb19078c",
   "metadata": {},
   "source": [
    "your answer-->"
   ]
  },
  {
   "cell_type": "code",
   "execution_count": null,
   "id": "b3149eee-0985-4378-a491-ea407f505704",
   "metadata": {},
   "outputs": [],
   "source": []
  },
  {
   "cell_type": "markdown",
   "id": "e792a043-942b-4386-a821-950cd3e6581a",
   "metadata": {},
   "source": [
    "---"
   ]
  },
  {
   "cell_type": "code",
   "execution_count": 16,
   "id": "0257a004-9ed3-404f-a2fc-74786debf313",
   "metadata": {},
   "outputs": [
    {
     "data": {
      "text/html": [
       "<div>\n",
       "<style scoped>\n",
       "    .dataframe tbody tr th:only-of-type {\n",
       "        vertical-align: middle;\n",
       "    }\n",
       "\n",
       "    .dataframe tbody tr th {\n",
       "        vertical-align: top;\n",
       "    }\n",
       "\n",
       "    .dataframe thead th {\n",
       "        text-align: right;\n",
       "    }\n",
       "</style>\n",
       "<table border=\"1\" class=\"dataframe\">\n",
       "  <thead>\n",
       "    <tr style=\"text-align: right;\">\n",
       "      <th></th>\n",
       "      <th>Area Code</th>\n",
       "      <th>Area Name</th>\n",
       "      <th>Persons-1801</th>\n",
       "      <th>Persons-1811</th>\n",
       "      <th>Persons-1821</th>\n",
       "      <th>Persons-1831</th>\n",
       "      <th>Persons-1841</th>\n",
       "      <th>Persons-1851</th>\n",
       "      <th>Persons-1861</th>\n",
       "      <th>Persons-1871</th>\n",
       "      <th>...</th>\n",
       "      <th>Persons-1921</th>\n",
       "      <th>Persons-1931</th>\n",
       "      <th>Persons-1939</th>\n",
       "      <th>Persons-1951</th>\n",
       "      <th>Persons-1961</th>\n",
       "      <th>Persons-1971</th>\n",
       "      <th>Persons-1981</th>\n",
       "      <th>Persons-1991</th>\n",
       "      <th>Persons-2001</th>\n",
       "      <th>Persons-2011</th>\n",
       "    </tr>\n",
       "  </thead>\n",
       "  <tbody>\n",
       "    <tr>\n",
       "      <th>20</th>\n",
       "      <td>00AX</td>\n",
       "      <td>Kingston upon Thames</td>\n",
       "      <td>5000</td>\n",
       "      <td>5000</td>\n",
       "      <td>6000</td>\n",
       "      <td>8000</td>\n",
       "      <td>10000</td>\n",
       "      <td>12000</td>\n",
       "      <td>18000</td>\n",
       "      <td>27000</td>\n",
       "      <td>...</td>\n",
       "      <td>74000</td>\n",
       "      <td>93000</td>\n",
       "      <td>129000</td>\n",
       "      <td>147000</td>\n",
       "      <td>146010</td>\n",
       "      <td>141000</td>\n",
       "      <td>132957</td>\n",
       "      <td>131436</td>\n",
       "      <td>147271</td>\n",
       "      <td>160060</td>\n",
       "    </tr>\n",
       "    <tr>\n",
       "      <th>21</th>\n",
       "      <td>00AY</td>\n",
       "      <td>Lambeth</td>\n",
       "      <td>33000</td>\n",
       "      <td>49000</td>\n",
       "      <td>67000</td>\n",
       "      <td>99000</td>\n",
       "      <td>129000</td>\n",
       "      <td>155000</td>\n",
       "      <td>182000</td>\n",
       "      <td>236000</td>\n",
       "      <td>...</td>\n",
       "      <td>419000</td>\n",
       "      <td>421000</td>\n",
       "      <td>391000</td>\n",
       "      <td>347000</td>\n",
       "      <td>341626</td>\n",
       "      <td>308000</td>\n",
       "      <td>246426</td>\n",
       "      <td>220252</td>\n",
       "      <td>266170</td>\n",
       "      <td>303086</td>\n",
       "    </tr>\n",
       "    <tr>\n",
       "      <th>22</th>\n",
       "      <td>00AZ</td>\n",
       "      <td>Lewisham</td>\n",
       "      <td>16000</td>\n",
       "      <td>20000</td>\n",
       "      <td>24000</td>\n",
       "      <td>26000</td>\n",
       "      <td>34000</td>\n",
       "      <td>44000</td>\n",
       "      <td>67000</td>\n",
       "      <td>101000</td>\n",
       "      <td>...</td>\n",
       "      <td>287000</td>\n",
       "      <td>327000</td>\n",
       "      <td>325000</td>\n",
       "      <td>303000</td>\n",
       "      <td>290582</td>\n",
       "      <td>268000</td>\n",
       "      <td>231324</td>\n",
       "      <td>215483</td>\n",
       "      <td>248917</td>\n",
       "      <td>275885</td>\n",
       "    </tr>\n",
       "    <tr>\n",
       "      <th>23</th>\n",
       "      <td>00BA</td>\n",
       "      <td>Merton</td>\n",
       "      <td>5000</td>\n",
       "      <td>6000</td>\n",
       "      <td>7000</td>\n",
       "      <td>7000</td>\n",
       "      <td>8000</td>\n",
       "      <td>8000</td>\n",
       "      <td>11000</td>\n",
       "      <td>17000</td>\n",
       "      <td>...</td>\n",
       "      <td>114000</td>\n",
       "      <td>158000</td>\n",
       "      <td>197000</td>\n",
       "      <td>200000</td>\n",
       "      <td>189013</td>\n",
       "      <td>177000</td>\n",
       "      <td>166100</td>\n",
       "      <td>162741</td>\n",
       "      <td>187919</td>\n",
       "      <td>199693</td>\n",
       "    </tr>\n",
       "    <tr>\n",
       "      <th>24</th>\n",
       "      <td>00BB</td>\n",
       "      <td>Newham</td>\n",
       "      <td>8000</td>\n",
       "      <td>10000</td>\n",
       "      <td>12000</td>\n",
       "      <td>14000</td>\n",
       "      <td>15000</td>\n",
       "      <td>22000</td>\n",
       "      <td>43000</td>\n",
       "      <td>70000</td>\n",
       "      <td>...</td>\n",
       "      <td>448000</td>\n",
       "      <td>440000</td>\n",
       "      <td>381000</td>\n",
       "      <td>294000</td>\n",
       "      <td>265388</td>\n",
       "      <td>237000</td>\n",
       "      <td>209494</td>\n",
       "      <td>200678</td>\n",
       "      <td>243884</td>\n",
       "      <td>307984</td>\n",
       "    </tr>\n",
       "    <tr>\n",
       "      <th>25</th>\n",
       "      <td>00BC</td>\n",
       "      <td>Redbridge</td>\n",
       "      <td>4000</td>\n",
       "      <td>5000</td>\n",
       "      <td>6000</td>\n",
       "      <td>7000</td>\n",
       "      <td>7000</td>\n",
       "      <td>7000</td>\n",
       "      <td>9000</td>\n",
       "      <td>12000</td>\n",
       "      <td>...</td>\n",
       "      <td>124000</td>\n",
       "      <td>179000</td>\n",
       "      <td>232000</td>\n",
       "      <td>257000</td>\n",
       "      <td>250080</td>\n",
       "      <td>240000</td>\n",
       "      <td>226280</td>\n",
       "      <td>221107</td>\n",
       "      <td>238623</td>\n",
       "      <td>278970</td>\n",
       "    </tr>\n",
       "  </tbody>\n",
       "</table>\n",
       "<p>6 rows × 24 columns</p>\n",
       "</div>"
      ],
      "text/plain": [
       "   Area Code             Area Name  Persons-1801  Persons-1811  Persons-1821  \\\n",
       "20      00AX  Kingston upon Thames          5000          5000          6000   \n",
       "21      00AY               Lambeth         33000         49000         67000   \n",
       "22      00AZ              Lewisham         16000         20000         24000   \n",
       "23      00BA                Merton          5000          6000          7000   \n",
       "24      00BB                Newham          8000         10000         12000   \n",
       "25      00BC             Redbridge          4000          5000          6000   \n",
       "\n",
       "    Persons-1831  Persons-1841  Persons-1851  Persons-1861  Persons-1871  ...  \\\n",
       "20          8000         10000         12000         18000         27000  ...   \n",
       "21         99000        129000        155000        182000        236000  ...   \n",
       "22         26000         34000         44000         67000        101000  ...   \n",
       "23          7000          8000          8000         11000         17000  ...   \n",
       "24         14000         15000         22000         43000         70000  ...   \n",
       "25          7000          7000          7000          9000         12000  ...   \n",
       "\n",
       "    Persons-1921  Persons-1931  Persons-1939  Persons-1951  Persons-1961  \\\n",
       "20         74000         93000        129000        147000        146010   \n",
       "21        419000        421000        391000        347000        341626   \n",
       "22        287000        327000        325000        303000        290582   \n",
       "23        114000        158000        197000        200000        189013   \n",
       "24        448000        440000        381000        294000        265388   \n",
       "25        124000        179000        232000        257000        250080   \n",
       "\n",
       "    Persons-1971  Persons-1981  Persons-1991  Persons-2001  Persons-2011  \n",
       "20        141000        132957        131436        147271        160060  \n",
       "21        308000        246426        220252        266170        303086  \n",
       "22        268000        231324        215483        248917        275885  \n",
       "23        177000        166100        162741        187919        199693  \n",
       "24        237000        209494        200678        243884        307984  \n",
       "25        240000        226280        221107        238623        278970  \n",
       "\n",
       "[6 rows x 24 columns]"
      ]
     },
     "execution_count": 16,
     "metadata": {},
     "output_type": "execute_result"
    }
   ],
   "source": [
    "#3 \n",
    "pop.loc[20:25]"
   ]
  },
  {
   "cell_type": "markdown",
   "id": "736675e3-a1df-4d94-bded-8562ab8e19a9",
   "metadata": {},
   "source": [
    "your answer --> \n"
   ]
  },
  {
   "cell_type": "code",
   "execution_count": null,
   "id": "3138f294-49cd-4513-a921-fceca8bcb42b",
   "metadata": {},
   "outputs": [],
   "source": []
  },
  {
   "cell_type": "markdown",
   "id": "5f321cbf-8886-4cf0-b30d-7d34cb9befa0",
   "metadata": {},
   "source": [
    "---"
   ]
  },
  {
   "cell_type": "code",
   "execution_count": null,
   "id": "ec35e622-916e-4d30-a546-0c7a8986cd51",
   "metadata": {},
   "outputs": [],
   "source": [
    "#4 \n",
    "pop[20:25]"
   ]
  },
  {
   "cell_type": "markdown",
   "id": "8ade269e-4728-430b-aa2f-966a87e38f80",
   "metadata": {},
   "source": [
    "your answer --->"
   ]
  },
  {
   "cell_type": "code",
   "execution_count": null,
   "id": "d625325b-b5d1-43c2-8d5d-470521ba5877",
   "metadata": {},
   "outputs": [],
   "source": []
  },
  {
   "cell_type": "markdown",
   "id": "f34f151c-07ff-45bb-b360-79ea4d0db84f",
   "metadata": {},
   "source": [
    "---"
   ]
  },
  {
   "cell_type": "code",
   "execution_count": null,
   "id": "b1507010-e585-489d-a854-5b4a338f3c49",
   "metadata": {},
   "outputs": [],
   "source": [
    "# 5 \n",
    "pop.dtypes "
   ]
  },
  {
   "cell_type": "markdown",
   "id": "8c2f90ab-b358-46df-b24f-64f6cd834190",
   "metadata": {},
   "source": [
    "your answer--> "
   ]
  },
  {
   "cell_type": "code",
   "execution_count": null,
   "id": "d5364c91-c4b3-40c7-8095-9a3ee3037f46",
   "metadata": {},
   "outputs": [],
   "source": []
  },
  {
   "cell_type": "markdown",
   "id": "db2278bb-1a08-489b-a801-be69a90a6fce",
   "metadata": {},
   "source": [
    "----"
   ]
  },
  {
   "cell_type": "code",
   "execution_count": null,
   "id": "20ace18c-7e93-40a5-a912-c6dd56c8f6f1",
   "metadata": {},
   "outputs": [],
   "source": []
  }
 ],
 "metadata": {
  "kernelspec": {
   "display_name": "Python 3 (ipykernel)",
   "language": "python",
   "name": "python3"
  },
  "language_info": {
   "codemirror_mode": {
    "name": "ipython",
    "version": 3
   },
   "file_extension": ".py",
   "mimetype": "text/x-python",
   "name": "python",
   "nbconvert_exporter": "python",
   "pygments_lexer": "ipython3",
   "version": "3.7.6"
  }
 },
 "nbformat": 4,
 "nbformat_minor": 5
}
